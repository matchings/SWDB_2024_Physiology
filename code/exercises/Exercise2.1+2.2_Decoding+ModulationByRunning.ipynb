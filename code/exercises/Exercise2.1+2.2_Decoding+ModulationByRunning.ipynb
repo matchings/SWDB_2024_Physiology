{
 "cells": [
  {
   "cell_type": "markdown",
   "id": "99c49730",
   "metadata": {},
   "source": [
    "<img src=\"../../resources/cropped-SummerWorkshop_Header.png\">  \n",
    "\n",
    "<h1 align=\"center\">Population Coding Exercises</h1> \n",
    "<h2 align=\"center\">Summer Workshop on the Dynamic Brain</h2> "
   ]
  },
  {
   "cell_type": "code",
   "execution_count": null,
   "id": "c1bf979d",
   "metadata": {},
   "outputs": [],
   "source": [
    "import multiprocessing as mp\n",
    "import os\n",
    "from functools import partial\n",
    "from pathlib import Path\n",
    "\n",
    "import matplotlib.pyplot as plt\n",
    "import numpy as np\n",
    "import pandas as pd\n",
    "from sklearn import svm\n",
    "from sklearn.linear_model import LinearRegression\n",
    "from sklearn.model_selection import (KFold, LeaveOneOut, RepeatedKFold,\n",
    "                                     RepeatedStratifiedKFold, StratifiedKFold)\n",
    "from tqdm import tqdm\n",
    "\n",
    "import brain_observatory_utilities.datasets.behavior.data_formatting as behavior_utils\n",
    "from allensdk.brain_observatory.behavior.behavior_project_cache.\\\n",
    "    behavior_neuropixels_project_cache \\\n",
    "    import VisualBehaviorNeuropixelsProjectCache\n",
    "from allensdk.brain_observatory.ecephys.ecephys_project_cache import EcephysProjectCache"
   ]
  },
  {
   "cell_type": "code",
   "execution_count": null,
   "id": "945b947f",
   "metadata": {},
   "outputs": [],
   "source": [
    "import platform\n",
    "platstring = platform.platform()\n",
    "\n",
    "if 'Darwin' in platstring:\n",
    "    # macOS \n",
    "    data_root = \"/Volumes/Brain2024/\"\n",
    "    mp.set_start_method('fork')\n",
    "elif 'Windows'  in platstring:\n",
    "    # Windows (replace with the drive letter of USB drive)\n",
    "    data_root = \"E:/\"\n",
    "elif ('amzn' in platstring):\n",
    "    # then on CodeOcean\n",
    "    data_root = \"/data/\"\n",
    "else:\n",
    "    # then your own linux platform\n",
    "    # EDIT location where you mounted hard drive\n",
    "    data_root = \"/media/$USERNAME/Brain2024/\""
   ]
  },
  {
   "cell_type": "code",
   "execution_count": null,
   "id": "017eba61",
   "metadata": {},
   "outputs": [],
   "source": [
    "def make_response_array(spike_times, stimulus_presentations, units, window=.05):\n",
    "\n",
    "    '''\n",
    "    Create an array of spike counts x stimulus presentations, and a corresponding list of stimulus labels.\n",
    "    spike_times: spike times \n",
    "    stimulus_presentation: stimulus presentation table\n",
    "    units: units table containing only the units to get the responses of\n",
    "    '''\n",
    "\n",
    "    # Sort spike times chronologically; necessary for the binary search later\n",
    "    sorted_spikes = dict()\n",
    "    for iu in units.index:\n",
    "        # Use mergesort/timsort since most spike_times are already sorted\n",
    "        sorted_spikes[iu] = np.sort(spike_times[iu], kind='mergesort')\n",
    "\n",
    "    # Create our own copy of stimulus presentations and sort by presentation start time chronologically\n",
    "    # Sorting of stimulus_presentations isn't necessary, but it speeds up the vectorized `searchsorted(...)`\n",
    "    stimulus_presentations = stimulus_presentations.sort_values(by='start_time', kind='mergesort', inplace=False)\n",
    "\n",
    "    # Calculate the duration of stimulus presentations, and drop NaN durations\n",
    "    stimulus_presentations['duration'] = stimulus_presentations['end_time'] - stimulus_presentations['start_time']\n",
    "    stimulus_presentations.dropna(subset='duration', inplace=True)\n",
    "    \n",
    "    # Warn if window size is too big\n",
    "    if np.any(window > stimulus_presentations['duration']):\n",
    "        print('Warning: window size longer than stimulus presentation')\n",
    "\n",
    "    responses_by_unit = list()\n",
    "    for iu in units.index:\n",
    "        unit_spike_times = sorted_spikes[iu]\n",
    "\n",
    "        # Determine the first and last spike time for each stimulus presentation\n",
    "        start_is = np.searchsorted(unit_spike_times, stimulus_presentations['start_time'])\n",
    "        end_is = np.searchsorted(unit_spike_times, stimulus_presentations['start_time'] + window)\n",
    "\n",
    "        # Calculate the response rate for each stimulus presentation\n",
    "        responses_by_unit.append((end_is - start_is) / window)\n",
    "\n",
    "    # responses_by_unit has each row as a unit, and each column as a stimulus, flip so that rows are stimuli\n",
    "    responses = np.transpose(responses_by_unit)\n",
    "\n",
    "    # Extract the labels that match the responses from our sorted stimulus presentations table\n",
    "    labels = np.array(stimulus_presentations['image_name'])\n",
    "    \n",
    "    return responses, labels"
   ]
  },
  {
   "cell_type": "markdown",
   "id": "5183bfd6",
   "metadata": {},
   "source": [
    "<div class=\"alert alert-block alert-success\">\n",
    "\n",
    "<h2>Exercise 2.1: Decoding for Different Brain Areas, Behavioral States, and Stimuli</h2>\n",
    "\n",
    "<p>\n",
    "In the afternoon session we looked at decoding performance, restriciting the analysis to \n",
    "<ol>\n",
    "<li>one brain area ('VISp'),</li>\n",
    "<li>one stimulus set ('Natural_Images_Lum_Matched_set_ophys_G_2019'), and</li>\n",
    "<li>only one type of trials ('active')</li>\n",
    "</ol>\n",
    "It's time to generalize! Let's plot the decoding performance for each brain area recorded seperated by running/not running trials. Consider further all stimulus sets with moderate amount (10-500) of stimulus conditions.\n",
    "\n",
    "<p>\n",
    "<strong>Note:</strong>  For this exercise, there are comments with detailed prompts that act as guiderails. But feel free to try completing the task objectives using your own approach first, and consulting our prompts if you get stuck.\n",
    "</p>\n",
    "    \n",
    "</div>"
   ]
  },
  {
   "cell_type": "markdown",
   "id": "f65e6aa9",
   "metadata": {},
   "source": [
    "<div class=\"alert alert-block alert-success\">\n",
    "\n",
    "<strong>Prompt 2.1.a:</strong> As we did in the lecture, retrieve data of session 1065437523 from the  <code>VisualBehaviorNeuropixelsProjectCache</code>.\n",
    "\n",
    "</div>"
   ]
  },
  {
   "cell_type": "markdown",
   "id": "2bfb57ec",
   "metadata": {},
   "source": [
    "<div class=\"alert alert-block alert-success\">\n",
    "\n",
    "<strong>Prompt 2.1.b:</strong> Obtain the <strong>annotated</strong> stimulus presentations for the session using the <code>behavior_utils</code> package.\n",
    "\n",
    "</div>"
   ]
  },
  {
   "cell_type": "markdown",
   "id": "abbd1c31",
   "metadata": {},
   "source": [
    "<div class=\"alert alert-block alert-success\">\n",
    "\n",
    "<strong>Prompt 2.1.c:</strong> Plot histograms of <code>mean_pupil_width</code> and <code>mean_running_speed</code>.\n",
    "\n",
    "</div>"
   ]
  },
  {
   "cell_type": "markdown",
   "id": "97afa45f",
   "metadata": {},
   "source": [
    "<div class=\"alert alert-block alert-success\">\n",
    "\n",
    "<strong>Prompt 2.1.d:</strong> As we just observed, in the VB dataset, the mice were nearly always running. To consider a dataset that includes trials where mice are 'not running', let's turn to the VC dataset. Retrieve data of session 798911424 from the <code>EcephysProjectCache</code>.\n",
    "\n",
    "</div>\n",
    "<details>\n",
    "    <summary>Click for <strong>Hint:</strong></summary>\n",
    "    The manifest is located in the data subfolder <code>allen-brain-observatory/visual-coding-neuropixels/ecephys-cache/manifest.json</code>.\n",
    "</details>"
   ]
  },
  {
   "cell_type": "markdown",
   "id": "e928f3fc",
   "metadata": {},
   "source": [
    "<h2 align=\"center\"> The Visual Coding (VC) stimulus sets </h2> \n",
    "<img src=\"../../resources/neuropixels_stimulus_sets.png\">  "
   ]
  },
  {
   "cell_type": "markdown",
   "id": "769088e0",
   "metadata": {},
   "source": [
    "<div class=\"alert alert-block alert-success\">\n",
    "\n",
    "<strong>Prompt 2.1.e:</strong> Retrieve unit data, sort the units by depth, and filter for 'good' units using the same criteria as in the lecture.\n",
    "\n",
    "</div>\n",
    "<details>\n",
    "    <summary>Click for <strong>Hints:</strong></summary>\n",
    "    Unlike for VB (Prompt 2.1.b), here the session object has no <code>get_units</code> method, but a <code>units</code> attribute that already contains channel information, thus no merging is necessary.\n",
    "</details>"
   ]
  },
  {
   "cell_type": "markdown",
   "id": "be6073bf",
   "metadata": {},
   "source": [
    "<div class=\"alert alert-block alert-success\">\n",
    "\n",
    "<strong>Prompt 2.1.f:</strong> Get the <code>stimulus_presentations</code> table for the session and create a list of the <code>stimulus_names</code> with at least 10 but less than 500 stimulus conditions.\n",
    "\n",
    "</div>"
   ]
  },
  {
   "cell_type": "markdown",
   "id": "01425bc5",
   "metadata": {},
   "source": [
    "<div class=\"alert alert-block alert-success\">\n",
    "\n",
    "<strong>Prompt 2.1.g:</strong> Calculate the average running speed for each trial and add them as new column <code>'mean_running_speed'</code> to the stimulus table.\n",
    "\n",
    "</div>\n",
    "<details>\n",
    "    <summary>Click for a <strong>Hint:</strong></summary>\n",
    "    For VB the <code>behavior_utils</code> package provides a convenient function to obtain an annotated stimulus table, whereas here for VC we need to do spell out the calculation steps ourselves.\n",
    "</details>"
   ]
  },
  {
   "cell_type": "markdown",
   "id": "aaf3b6c2",
   "metadata": {},
   "source": [
    "<div class=\"alert alert-block alert-success\">\n",
    "\n",
    "<strong>Prompt 2.1.h:</strong> Plot a histogram of running speeds, indicating a threshold of 5 cm/s.\n",
    "\n",
    "</div>"
   ]
  },
  {
   "cell_type": "markdown",
   "id": "246615c2",
   "metadata": {},
   "source": [
    "<div class=\"alert alert-block alert-success\">\n",
    "\n",
    "<strong>Prompt 2.1.i:</strong> Add a new column to the stimulus table named <code>'running'</code>, with values set to <code>True</code> if the running speed is greater than 5 cm/s, otherwise <code>False</code>.\n",
    "\n",
    "</div>"
   ]
  },
  {
   "cell_type": "markdown",
   "id": "38a202af",
   "metadata": {},
   "source": [
    "<div class=\"alert alert-block alert-success\">\n",
    "\n",
    "<strong>Prompt 2.1.j:</strong> Try using the <code>make_response_array</code> function using the session's spike times and stimulus table.\n",
    "<p>\n",
    "Why does it fail? Modify the stimulus table as needed to ensure the function succeeds. (Alternatively, you could modify the function.)\n",
    "    \n",
    "</div>\n",
    "\n",
    "<details>\n",
    "    <summary>Click for a <strong>Hint:</strong></summary>\n",
    "    We want to decode <code>'stimulus_condition_id'</code>. Rename (or duplicate) appropriate columns to <code>'end_time'</code> and <code>'image_name'</code> respectively.\n",
    "</details>"
   ]
  },
  {
   "cell_type": "markdown",
   "id": "f4d6a6ec",
   "metadata": {},
   "source": [
    "<div class=\"alert alert-block alert-success\">\n",
    "\n",
    "<strong>Prompt 2.1.k:</strong> Plot the number of good units (y-axis) for each brain structure (x-axis).  \n",
    "\n",
    "</div>"
   ]
  },
  {
   "cell_type": "markdown",
   "id": "0cb8b2aa",
   "metadata": {},
   "source": [
    "<div class=\"alert alert-block alert-success\">\n",
    "\n",
    "<strong>Prompt 2.1.l:</strong> Create a function <code>decode(area_of_interest, selection, window, n_splits)</code> that returns the accuracies of stimulus decoding in <code>area_of_interest</code> for a given <code>selection</code> of stimulus presentations.\n",
    "</div>\n",
    "\n",
    "<details>\n",
    "    <summary>Click for <strong>Hints:</strong></summary>\n",
    "    Revisiting the steps performed in the lecture will help to create the function that\n",
    "    <ol>\n",
    "    <li>selects from the <code>good_units</code> the ones in the <code>area_of_interest</code> (see Prompt 2.1.e)</li>\n",
    "    <li>selects the stimulus presentations from our annotated stimulus presentations table according to the <code>selection</code> dictionary (see Prompt 2.1.f+g)</li>\n",
    "    <li>creates <code>responses</code> and <code>labels</code> using the function <code>make_response_array</code> with window size <code>window</code></li>\n",
    "    <li>uses <code>sklearn.model_selection.KFold</code> to split the data into \"train\" and \"test\" sets for <code>n_splits</code> iterations, and for each iteration trains a <code>sklearn.svm.SVC</code> on the training set and calculates the accuracy on the test set</li>\n",
    "    <li>returns a list/array of length <code>n_splits</code> with the accuracies for each split</li>\n",
    "    </ol>\n",
    "    The signature of the function with default args could be \n",
    "    <p>\n",
    "    <code>def decode(area_of_interest='VISp',\n",
    "            selection={\"stimulus_name\": 'natural_scenes', \"running\": True},\n",
    "            window=.25,\n",
    "            num_splits=5):</code>\n",
    "    </p>\n",
    "</details>"
   ]
  },
  {
   "cell_type": "markdown",
   "id": "e939c746",
   "metadata": {},
   "source": [
    "<div class=\"alert alert-block alert-success\">\n",
    "\n",
    "<strong>Prompt 2.1.m:</strong> Equipped with this function, \n",
    "<p> for each <code>stimulus_name</code> from Prompt 2.1.f, (i.e. 'gabors', 'drifting_gratings', 'static_gratings', 'natural_scenes', 'drifting_gratings_contrast'),\n",
    "<p> &emsp;&emsp; for both <code>\"running\"</code> and <code>\"not_running\"</code> trials,\n",
    "<p> &emsp;&emsp;&emsp;&emsp; calculate and store the decoding accuracy for each recorded brain <code>structure</code>.\n",
    "</div>\n",
    "\n",
    "<details>\n",
    "    <summary>Click to receive a <strong>Hint</strong> for faster processing:</summary>\n",
    "    You could use <code>multiprocessing.Pool(processes).map()</code> to speed up processing by applying the <code>decode</code> function to all <code>structures</code> in parallel.\n",
    "    <br>You might run out of memory if you use too many <code>processes</code>. On CodeOcean, don't use more than <code>os.environ.get(\"CO_CPUS\")</code>\n",
    "</details>"
   ]
  },
  {
   "cell_type": "markdown",
   "id": "e3c98141",
   "metadata": {},
   "source": [
    "<div class=\"alert alert-block alert-success\">\n",
    "\n",
    "<strong>Prompt 2.1.n:</strong> For each considered <code>stimulus_name</code>, create a figure with an error bar plot of decoding accuracy (y-axis) for each brain area (x-axis) for \"running\" trials. Add another error bar plot for \"not_running\" trials using a different color in the same figure, and include a horizontal line indicating chance level performance.\n",
    "\n",
    "</div>"
   ]
  },
  {
   "cell_type": "code",
   "execution_count": null,
   "id": "32fa5430",
   "metadata": {},
   "outputs": [],
   "source": []
  },
  {
   "cell_type": "code",
   "execution_count": null,
   "id": "3a430aa8",
   "metadata": {},
   "outputs": [],
   "source": []
  },
  {
   "cell_type": "markdown",
   "id": "93dd1efb",
   "metadata": {},
   "source": [
    "<div class=\"alert alert-block alert-success\">\n",
    "\n",
    "<h2>Exercise 2.2: Noise Correlations and Modulation by Running</h2>\n",
    "\n",
    "<p>\n",
    "In this exercise, we will explore how running modulates neural responses and affects noise correlations. Specifically, we will:\n",
    "<ol>\n",
    "<li>Plot total, signal, and noise correlations</li>\n",
    "<li>Plot the correlations between neural responses and running speed</li>\n",
    "<li>Compare the noise correlations of all units versus highly modulated units</li>\n",
    "</ol>\n",
    "\n",
    "<p>\n",
    "<strong>Note:</strong> For this exercise, there are comments with detailed prompts that act as guidelines. However, feel free to try completing the task objectives using your own approach first, and consult our prompts if you get stuck.\n",
    "</p>\n",
    "    \n",
    "</div>"
   ]
  },
  {
   "cell_type": "markdown",
   "id": "fea6d488",
   "metadata": {},
   "source": [
    "<div class=\"alert alert-block alert-success\">\n",
    "\n",
    "<strong>Prompt 2.2.a:</strong> Make sure you have completed the steps in Prompts 2.1.d-j."
   ]
  },
  {
   "cell_type": "markdown",
   "id": "ae66521f",
   "metadata": {},
   "source": [
    "<div class=\"alert alert-block alert-success\">\n",
    "  \n",
    "<strong>Prompt 2.2.b:</strong> Consider good units in <code>area_of_interest='VISp'</code> and restrict the stimulus presentations to <code>selection={\"stimulus_name\": 'drifting_gratings', \"running\": True}</code>. Using a window size of 250ms, calculate the responses and labels using the <code>make_response_array</code> function."
   ]
  },
  {
   "cell_type": "markdown",
   "id": "4eb0fb16",
   "metadata": {},
   "source": [
    "<div class=\"alert alert-block alert-success\">\n",
    "\n",
    "<strong>Prompt 2.2.c:</strong> Calculate and plot total, signal, and mean noise correlations.\n"
   ]
  },
  {
   "cell_type": "markdown",
   "id": "01b383e7",
   "metadata": {},
   "source": [
    "<div class=\"alert alert-block alert-success\">\n",
    "    \n",
    "<strong>Prompt 2.2.d:</strong> For each stimulus condition, calculate the correlation with <code>'mean_running_speed'</code> for each unit. Plot the array (size #conditions x #units) of running speed correlations."
   ]
  },
  {
   "cell_type": "markdown",
   "id": "276f7078",
   "metadata": {},
   "source": [
    "<div class=\"alert alert-block alert-success\">\n",
    "\n",
    "<strong>Prompt 2.2.e:</strong> Consider the stimulus condition with the most stimulus presentations. For this condition, plot the <code>'speed_correlations'</code>, showing a threshold of 0.75. Get the indices of the <code>'highly_modulated_units'</code> whose correlation with running speed is greater than 0.75."
   ]
  },
  {
   "cell_type": "markdown",
   "id": "7a72cbed",
   "metadata": {},
   "source": [
    "<div class=\"alert alert-block alert-success\">\n",
    "    \n",
    "<strong>Prompt 2.2.f:</strong> Create plots comparing the noise correlations of <code>'highly_modulated_units'</code> to all units.\n",
    "    \n",
    "<ol>\n",
    "<li>Plot the responses (for the considered condition) of those <code>'highly_modulated_units'</code> together with the running speed (use a separate y-axis for the latter).</li>\n",
    "<li>In another panel, plot the noise correlations (for the considered condition) of the <code>'highly_modulated_units'</code>.</li>\n",
    "<li>In another panel, plot the histogram of the off-diagonal elements of the noise correlations (for the considered condition) of (1) all units and (2) <code>'highly_modulated_units'</code> (use density, not counts).</li>\n",
    "</ol>"
   ]
  },
  {
   "cell_type": "markdown",
   "id": "5824f83d",
   "metadata": {},
   "source": [
    "<div class=\"alert alert-block alert-success\">\n",
    "\n",
    "<strong>Prompt 2.2.g:</strong> Create synthetic data with removed noise correlations by trial-shuffling the neural data (for each condition)."
   ]
  },
  {
   "cell_type": "markdown",
   "id": "f935f5b6",
   "metadata": {},
   "source": [
    "<div class=\"alert alert-block alert-success\">\n",
    "\n",
    "<strong>Prompt 2.2.h:</strong> Decode the stimuli using a linear SVM on the true and shuffled responses. Repeatedly split into 'train' and 'test' data using <code>StratifiedKFold</code> or <code>LeaveOneOut</code> and calculate the accuracies averaged over splits.\n",
    "<p> Why not just use KFold as we did in the lecture?\n",
    "</div>\n",
    "\n",
    "<details>\n",
    "    <summary>Click for a <strong>Hint:</strong></summary>\n",
    "    Consider the number of presentations of each stimulus condition.\n",
    "</details>"
   ]
  },
  {
   "cell_type": "markdown",
   "id": "a7341749",
   "metadata": {},
   "source": [
    "<div class=\"alert alert-block alert-success\">\n",
    "\n",
    "<strong>Prompt 2.2.i:</strong> We considered <code>'drifting_gratings'</code>. Change to a static stimulus set and run all cells of this exercise again."
   ]
  },
  {
   "cell_type": "code",
   "execution_count": null,
   "id": "67dde1f9",
   "metadata": {},
   "outputs": [],
   "source": []
  }
 ],
 "metadata": {
  "kernelspec": {
   "display_name": "Python 3 (ipykernel)",
   "language": "python",
   "name": "python3"
  },
  "language_info": {
   "codemirror_mode": {
    "name": "ipython",
    "version": 3
   },
   "file_extension": ".py",
   "mimetype": "text/x-python",
   "name": "python",
   "nbconvert_exporter": "python",
   "pygments_lexer": "ipython3",
   "version": "3.10.12"
  }
 },
 "nbformat": 4,
 "nbformat_minor": 5
}
